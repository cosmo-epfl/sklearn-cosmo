{
 "cells": [
  {
   "cell_type": "code",
   "execution_count": null,
   "metadata": {},
   "outputs": [],
   "source": [
    "from sklearn.datasets import load_boston\n",
    "from sklearn.linear_model import Ridge as LR\n",
    "\n",
    "from matplotlib import pyplot as plt\n",
    "from matplotlib import cm\n",
    "\n",
    "from tqdm.notebook import tqdm\n",
    "\n",
    "import numpy as np\n",
    "\n",
    "from skcosmo.selection import CUR, FPS\n",
    "\n",
    "cmap = cm.brg"
   ]
  },
  {
   "cell_type": "markdown",
   "metadata": {},
   "source": [
    "For this, we will use the boston housing data provided by scikit-learn."
   ]
  },
  {
   "cell_type": "code",
   "execution_count": null,
   "metadata": {},
   "outputs": [],
   "source": [
    "X, Y = load_boston(return_X_y=True)\n",
    "Y = Y.reshape(X.shape[0], -1)"
   ]
  },
  {
   "cell_type": "markdown",
   "metadata": {},
   "source": [
    "First, let's demonstrate CUR feature selection, and show the ten features chosen with a mixing parameter of 0.0, 0.5, and 1.0 perform."
   ]
  },
  {
   "cell_type": "code",
   "execution_count": null,
   "metadata": {},
   "outputs": [],
   "source": [
    "n = 10\n",
    "\n",
    "for m in [0.0, 0.5, 1.0]:\n",
    "    fs = CUR.FeatureCUR(X, # Matrix to select from\n",
    "                        mixing=m, # Weight towards regression\n",
    "                        Y=Y) # Y is an optional parameter when m = 1\n",
    "    fs.select(n)\n",
    "\n",
    "    errors = np.nan * np.zeros(len(fs.idx))\n",
    "    for ni in range(len(fs.idx)):\n",
    "        lr = LR()\n",
    "        lr.fit(X[:, fs.idx[:ni+1]], Y)\n",
    "        Yp = lr.predict(X[:, fs.idx[:ni+1]])\n",
    "        errors[ni] = (np.linalg.norm(Y - Yp)**2.0 / np.linalg.norm(Y)**2.0)\n",
    "\n",
    "    plt.semilogy(range(1,n+1), errors, label=m, c=cmap(m), marker='o')\n",
    "    \n",
    "plt.legend()\n",
    "plt.show()"
   ]
  },
  {
   "cell_type": "markdown",
   "metadata": {},
   "source": [
    "You can provide additional parameters to featureCUR, including:\n",
    "- `tolerance`: (a cutoff for small eigenvalues, default=1E-12)\n",
    "- `k`: number of eigenvectors to use in calculation of importance function $\\pi$. (Recommended value: 1)\n",
    "- `iterative`: (boolean) whether to compute the importance function $\\pi$ iteratively"
   ]
  },
  {
   "cell_type": "markdown",
   "metadata": {},
   "source": [
    "Next, let's look at FPS. We'll choose the first index from CUR at m = 1, which is 9."
   ]
  },
  {
   "cell_type": "code",
   "execution_count": null,
   "metadata": {},
   "outputs": [],
   "source": [
    "n = 10\n",
    "\n",
    "for m in [0.0, 0.5, 1.0]:\n",
    "    fs = FPS.FeatureFPS(X, \n",
    "                        mixing=m, \n",
    "                        Y=Y,\n",
    "                        idxs = [9]\n",
    "                       ) \n",
    "    fs.select(n)\n",
    "\n",
    "    errors = np.nan * np.zeros(len(fs.idx))\n",
    "    for ni in range(len(fs.idx)):\n",
    "        lr = LR()\n",
    "        lr.fit(X[:, fs.idx[:ni+1]], Y)\n",
    "        Yp = lr.predict(X[:, fs.idx[:ni+1]])\n",
    "        errors[ni] = (np.linalg.norm(Y - Yp)**2.0 / np.linalg.norm(Y)**2.0)\n",
    "\n",
    "    plt.semilogy(range(1,n+1), errors, label=m, c=cmap(m), marker='o')\n",
    "    \n",
    "plt.legend()\n",
    "plt.show()"
   ]
  },
  {
   "cell_type": "markdown",
   "metadata": {},
   "source": [
    "You can provide additional parameters to featureFPS, including:\n",
    "- `tolerance`: (a cutoff for small eigenvalues, default=1E-12)\n",
    "- `idxs`: indices to use as the initial selections for FPS. If none are provided, the first selection is made at random."
   ]
  },
  {
   "cell_type": "code",
   "execution_count": null,
   "metadata": {},
   "outputs": [],
   "source": []
  }
 ],
 "metadata": {
  "kernelspec": {
   "display_name": "Python 3",
   "language": "python",
   "name": "python3"
  },
  "language_info": {
   "codemirror_mode": {
    "name": "ipython",
    "version": 3
   },
   "file_extension": ".py",
   "mimetype": "text/x-python",
   "name": "python",
   "nbconvert_exporter": "python",
   "pygments_lexer": "ipython3",
   "version": "3.6.11"
  },
  "toc": {
   "base_numbering": 1,
   "nav_menu": {},
   "number_sections": true,
   "sideBar": true,
   "skip_h1_title": false,
   "title_cell": "Table of Contents",
   "title_sidebar": "Contents",
   "toc_cell": false,
   "toc_position": {},
   "toc_section_display": true,
   "toc_window_display": false
  }
 },
 "nbformat": 4,
 "nbformat_minor": 4
}
